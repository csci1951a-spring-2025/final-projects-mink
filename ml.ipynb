{
 "cells": [
  {
   "cell_type": "code",
   "execution_count": 4,
   "metadata": {},
   "outputs": [
    {
     "name": "stdout",
     "output_type": "stream",
     "text": [
      "The autoreload extension is already loaded. To reload it, use:\n",
      "  %reload_ext autoreload\n"
     ]
    }
   ],
   "source": [
    "%load_ext autoreload\n",
    "%autoreload 2\n",
    "\n",
    "import os\n",
    "import json\n",
    "import sqlite3\n",
    "import numpy as np\n",
    "import pandas as pd\n",
    "import matplotlib.pyplot as plt\n",
    "\n",
    "from tqdm import tqdm\n",
    "\n",
    "pd.set_option('display.max_rows', None)\n",
    "pd.set_option('display.max_columns', None)"
   ]
  },
  {
   "cell_type": "markdown",
   "metadata": {},
   "source": [
    "**Load in data**"
   ]
  },
  {
   "cell_type": "code",
   "execution_count": 5,
   "metadata": {},
   "outputs": [
    {
     "data": {
      "text/plain": [
       "<sqlite3.Cursor at 0x10d94db90>"
      ]
     },
     "execution_count": 5,
     "metadata": {},
     "output_type": "execute_result"
    }
   ],
   "source": [
    "if not os.path.exists(\"./data/data.db\"):\n",
    "    os.system(\"python build_db.py\")\n",
    "\n",
    "conn = sqlite3.connect(\"./data/data.db\")\n",
    "c = conn.cursor()\n",
    "\n",
    "\n",
    "COLS_EXCLUDE = set([\n",
    "    \"StateAbbr\",\n",
    "    \"StateDesc\",\n",
    "    \"CountyName\",\n",
    "    \"CountyFIPS\",\n",
    "    \"TractFIPS\",\n",
    "    \"fips\",\n",
    "    \"stateabb\",\n",
    "    \"sedaadmin\",\n",
    "    \"sedaadminname\",\n",
    "    \"TRACT\",\n",
    "    \"COUNT\"\n",
    "])\n",
    "\n",
    "c.execute(\"\"\"\n",
    "WITH seda_tracts AS (\n",
    "    SELECT *\n",
    "    FROM seda s\n",
    "    JOIN nces n\n",
    "    ON s.sedaadmin = n.LEAID\n",
    "    WHERE s.year = 2019\n",
    ")\n",
    "\n",
    ", food_atlas_tracts AS (\n",
    "    SELECT *\n",
    "    FROM food f\n",
    "    JOIN seda_tracts st\n",
    "    ON st.TRACT = f.CensusTract\n",
    ")\n",
    "\n",
    ", cdc_tracts AS (\n",
    "    SELECT *\n",
    "    FROM cdc c\n",
    "    JOIN food_atlas_tracts ft\n",
    "    ON ft.TRACT = c.TractFIPS\n",
    ")\n",
    "\n",
    "SELECT *\n",
    "FROM cdc_tracts\n",
    "LIMIT 100;\n",
    "\"\"\")"
   ]
  }
 ],
 "metadata": {
  "kernelspec": {
   "display_name": "tf-metal",
   "language": "python",
   "name": "python3"
  },
  "language_info": {
   "codemirror_mode": {
    "name": "ipython",
    "version": 3
   },
   "file_extension": ".py",
   "mimetype": "text/x-python",
   "name": "python",
   "nbconvert_exporter": "python",
   "pygments_lexer": "ipython3",
   "version": "3.8.16"
  }
 },
 "nbformat": 4,
 "nbformat_minor": 2
}
