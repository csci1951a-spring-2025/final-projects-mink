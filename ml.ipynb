{
 "cells": [
  {
   "cell_type": "code",
   "execution_count": 1,
   "metadata": {},
   "outputs": [],
   "source": [
    "%load_ext autoreload\n",
    "%autoreload 2\n",
    "\n",
    "import os\n",
    "import json\n",
    "import sqlite3\n",
    "import numpy as np\n",
    "import pandas as pd\n",
    "import matplotlib.pyplot as plt\n",
    "\n",
    "from tqdm import tqdm\n",
    "\n",
    "pd.set_option(\"display.max_rows\", None)\n",
    "pd.set_option(\"display.max_columns\", None)"
   ]
  },
  {
   "cell_type": "markdown",
   "metadata": {},
   "source": [
    "**Load in data**"
   ]
  },
  {
   "cell_type": "code",
   "execution_count": 2,
   "metadata": {},
   "outputs": [],
   "source": [
    "all_cols = [\n",
    "    \"gcs_mn_all\", \"gcs_mn_se_all\", \"tot_asmt_all\",\n",
    "    \"gcs_mn_asn\", \"gcs_mn_se_asn\", \"tot_asmt_asn\",\n",
    "    \"gcs_mn_blk\", \"gcs_mn_se_blk\", \"tot_asmt_blk\",\n",
    "    \"gcs_mn_ecd\", \"gcs_mn_se_ecd\", \"tot_asmt_ecd\",\n",
    "    \"gcs_mn_fem\", \"gcs_mn_se_fem\", \"tot_asmt_fem\",\n",
    "    \"gcs_mn_hsp\", \"gcs_mn_se_hsp\", \"tot_asmt_hsp\",\n",
    "    \"gcs_mn_mal\", \"gcs_mn_se_mal\", \"tot_asmt_mal\",\n",
    "    \"gcs_mn_mfg\", \"gcs_mn_se_mfg\", \"tot_asmt_mfg\",\n",
    "    \"gcs_mn_nam\", \"gcs_mn_se_nam\", \"tot_asmt_nam\",\n",
    "    \"gcs_mn_nec\", \"gcs_mn_se_nec\", \"tot_asmt_nec\",\n",
    "    \"gcs_mn_neg\", \"gcs_mn_se_neg\", \"tot_asmt_neg\",\n",
    "    \"gcs_mn_wag\", \"gcs_mn_se_wag\", \"tot_asmt_wag\",\n",
    "    \"gcs_mn_wbg\", \"gcs_mn_se_wbg\", \"tot_asmt_wbg\",\n",
    "    \"gcs_mn_whg\", \"gcs_mn_se_whg\", \"tot_asmt_whg\",\n",
    "    \"gcs_mn_wht\", \"gcs_mn_se_wht\", \"tot_asmt_wht\",\n",
    "    \"gcs_mn_wng\", \"gcs_mn_se_wng\", \"tot_asmt_wng\",\n",
    "]\n",
    "\n",
    "race_cols = [\n",
    "    \"gcs_mn_all\", \"gcs_mn_se_all\", \"tot_asmt_all\",\n",
    "    \"gcs_mn_asn\", \"gcs_mn_se_asn\", \"tot_asmt_asn\",\n",
    "    \"gcs_mn_blk\", \"gcs_mn_se_blk\", \"tot_asmt_blk\",\n",
    "    \"gcs_mn_hsp\", \"gcs_mn_se_hsp\", \"tot_asmt_hsp\",\n",
    "    \"gcs_mn_nam\", \"gcs_mn_se_nam\", \"tot_asmt_nam\",\n",
    "]\n",
    "\n",
    "gender_cols = [\n",
    "    \"gcs_mn_all\", \"gcs_mn_se_all\", \"tot_asmt_all\",\n",
    "    \"gcs_mn_fem\", \"gcs_mn_se_fem\", \"tot_asmt_fem\",\n",
    "    \"gcs_mn_mal\", \"gcs_mn_se_mal\", \"tot_asmt_mal\",\n",
    "]"
   ]
  },
  {
   "cell_type": "code",
   "execution_count": null,
   "metadata": {},
   "outputs": [
    {
     "name": "stdout",
     "output_type": "stream",
     "text": [
      "995894\n"
     ]
    },
    {
     "name": "stderr",
     "output_type": "stream",
     "text": [
      "100%|██████████| 995894/995894 [00:13<00:00, 74453.65it/s]\n"
     ]
    }
   ],
   "source": [
    "if not os.path.exists(\"./data/data.db\"):\n",
    "    os.system(\"python build_db.py\")\n",
    "\n",
    "conn = sqlite3.connect(\"./data/data.db\")\n",
    "c = conn.cursor()\n",
    "\n",
    "\n",
    "COLS_EXCLUDE = set([\n",
    "    \"StateAbbr\",\n",
    "    \"StateDesc\",\n",
    "    \"CountyName\",\n",
    "    \"CountyFIPS\",\n",
    "    \"TractFIPS\",\n",
    "    \"fips\",\n",
    "    \"stateabb\",\n",
    "    \"sedaadmin\",\n",
    "    \"sedaadminname\",\n",
    "    \"TRACT\",\n",
    "    \"COUNT\"\n",
    "])\n",
    "\n",
    "c.execute(f\"\"\"\n",
    "WITH seda_tracts AS (\n",
    "    SELECT *\n",
    "    FROM seda s\n",
    "    JOIN nces n\n",
    "    ON s.sedaadmin = n.LEAID\n",
    "    WHERE s.year = 2019\n",
    ")\n",
    "\n",
    ", food_atlas_tracts AS (\n",
    "    SELECT *\n",
    "    FROM food f\n",
    "    JOIN seda_tracts st\n",
    "    ON st.TRACT = f.CensusTract\n",
    ")\n",
    "\n",
    ", cdc_tracts AS (\n",
    "    SELECT *\n",
    "    FROM cdc c\n",
    "    JOIN food_atlas_tracts ft\n",
    "    ON ft.TRACT = c.TractFIPS\n",
    ")\n",
    "\n",
    "SELECT *\n",
    "FROM cdc_tracts;\n",
    "\"\"\")\n",
    "\n",
    "rows = c.fetchall()\n",
    "print(len(rows))\n",
    "columns = [col[0] for col in c.description]\n",
    "\n",
    "## Write the rows manually into a CSV file without pandas\n",
    "with open(\"data/full_joined_table.csv\", \"w\") as f:\n",
    "    to_exclude = set()\n",
    "    # race_cols = []\n",
    "    # for i, col in enumerate(columns):\n",
    "    #     if (col.startswith(\"gcs\") or col.startswith(\"tot\")) and col not in race_cols:\n",
    "    #         to_exclude.add(i)\n",
    "\n",
    "    f.write(\",\".join(columns) + \"\\n\")\n",
    "    for row in tqdm(rows):\n",
    "        f.write(\",\".join([str(x) for i, x in enumerate(row) if i not in to_exclude]) + \"\\n\")\n"
   ]
  },
  {
   "cell_type": "code",
   "execution_count": null,
   "metadata": {},
   "outputs": [],
   "source": [
    "df = pd.read_csv(\"full_joined_table.csv\")\n",
    "df"
   ]
  }
 ],
 "metadata": {
  "kernelspec": {
   "display_name": "tf-metal",
   "language": "python",
   "name": "python3"
  },
  "language_info": {
   "codemirror_mode": {
    "name": "ipython",
    "version": 3
   },
   "file_extension": ".py",
   "mimetype": "text/x-python",
   "name": "python",
   "nbconvert_exporter": "python",
   "pygments_lexer": "ipython3",
   "version": "3.8.16"
  }
 },
 "nbformat": 4,
 "nbformat_minor": 2
}
