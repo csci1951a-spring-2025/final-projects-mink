{
 "cells": [
  {
   "cell_type": "markdown",
   "id": "a0718a6f",
   "metadata": {},
   "source": [
    "**Data Examples**"
   ]
  },
  {
   "cell_type": "code",
   "execution_count": 1,
   "id": "bd482368-d9e9-4b2d-a146-ccbd50aa70ea",
   "metadata": {},
   "outputs": [],
   "source": [
    "import pandas as pd"
   ]
  },
  {
   "cell_type": "code",
   "execution_count": 17,
   "id": "02bbf6de-978f-4ebf-9a13-492bfefd0aaf",
   "metadata": {},
   "outputs": [],
   "source": [
    "## Only run if data is not already downloaded\n",
    "!mkdir -p data\n",
    "## Download relevant SEDA data\n",
    "!curl --output ./data/seda_codebook_county_5.0.xlsx \"https://stacks.stanford.edu/file/druid:cs829jn7849/seda_codebook_county_5.0.xlsx\"\n",
    "!curl --output ./data/seda_county_long_cs_5.0.csv   \"https://stacks.stanford.edu/file/druid:cs829jn7849/seda_county_long_cs_5.0.csv\"\n",
    "!curl --output ./data/seda_county_long_gcs_5.0.csv  \"https://stacks.stanford.edu/file/druid:cs829jn7849/seda_county_long_gcs_5.0.csv\"\n",
    "\n",
    "## Download and extract relevant food desert data\n",
    "!curl --output ./data/food_atlas.zip \"https://ers.usda.gov/sites/default/files/_laserfiche/DataFiles/80591/2019%20Food%20Access%20Research%20Atlas%20Data.zip?v=65647\"\n",
    "!unzip ./data/food_atlas.zip -d ./data\n"
   ]
  },
  {
   "cell_type": "markdown",
   "id": "6df26389",
   "metadata": {},
   "source": [
    "**Dowload CDC Data**"
   ]
  },
  {
   "cell_type": "code",
   "execution_count": null,
   "id": "b676102d",
   "metadata": {},
   "outputs": [],
   "source": [
    "!curl --output ./data/cdc_health_data.csv \"https://data.cdc.gov/api/views/mb5y-ytti/rows.csv?accessType=DOWNLOAD\""
   ]
  },
  {
   "cell_type": "markdown",
   "id": "fdfcd542",
   "metadata": {},
   "source": [
    "**Food Atlas and CDC Data California DB Download**"
   ]
  },
  {
   "cell_type": "code",
   "execution_count": 22,
   "id": "63352545",
   "metadata": {},
   "outputs": [
    {
     "name": "stdout",
     "output_type": "stream",
     "text": [
      "  % Total    % Received % Xferd  Average Speed   Time    Time     Time  Current\n",
      "                                 Dload  Upload   Total   Spent    Left  Speed\n",
      "  0     0    0     0    0     0      0      0 --:--:-- --:--:-- --:--:--     0\n",
      "100  559k  100  559k    0     0   249k      0  0:00:02  0:00:02 --:--:--  579k\n"
     ]
    }
   ],
   "source": [
    "!curl -L -o ./data/health_food_access_ca.csv  \"https://drive.google.com/uc?export=download&id=1NSa26vi0gFuOdWejolhQw9AV_qk6LlKq\"\n"
   ]
  },
  {
   "cell_type": "markdown",
   "id": "997ad6d6",
   "metadata": {},
   "source": [
    "**Food Atlas Data Example**"
   ]
  },
  {
   "cell_type": "code",
   "execution_count": 18,
   "id": "9489c80d",
   "metadata": {},
   "outputs": [],
   "source": [
    "import json\n",
    "import statistics\n",
    "import pandas as pd\n",
    "import matplotlib.pyplot as plt\n",
    "\n",
    "pd.set_option('display.max_rows', None)\n",
    "pd.set_option('display.max_columns', None)"
   ]
  },
  {
   "cell_type": "code",
   "execution_count": 7,
   "id": "40978750",
   "metadata": {},
   "outputs": [],
   "source": [
    "food_atlas = pd.read_csv(\"./data/Food Access Research Atlas.csv\")\n",
    "# food_atlas.head(100)"
   ]
  },
  {
   "cell_type": "markdown",
   "id": "c00f23b2",
   "metadata": {},
   "source": [
    "**CDC Health Data Example**"
   ]
  },
  {
   "cell_type": "code",
   "execution_count": 16,
   "id": "b1fab5cb",
   "metadata": {},
   "outputs": [],
   "source": [
    "health_cdc = pd.read_csv(\"./data/cdc_health_data.csv\")\n",
    "# health_cdc.head(100)"
   ]
  },
  {
   "cell_type": "markdown",
   "id": "f0f05cf8",
   "metadata": {},
   "source": [
    "**Food Atlas and CDC Data California Example**"
   ]
  },
  {
   "cell_type": "code",
   "execution_count": 25,
   "id": "99641a09",
   "metadata": {},
   "outputs": [],
   "source": [
    "health_cdc_and_food_atlas = pd.read_csv(\"./data/health_food_access_ca.csv\")\n",
    "# health_cdc_and_food_atlas.head(100)"
   ]
  },
  {
   "cell_type": "markdown",
   "id": "c5c888b7",
   "metadata": {},
   "source": [
    "**SEDA County Data Example**\n",
    "- gcs: grade cohort scale, accounts for differences in state assessments to  allow cross state comparison analysis\n",
    "- cs: cohort scale, standardized for a particular point in time and used for local analysis across grade levels."
   ]
  },
  {
   "cell_type": "code",
   "execution_count": 8,
   "id": "43377cc7",
   "metadata": {},
   "outputs": [],
   "source": [
    "seda_gcs = pd.read_csv(\"./data/seda_county_long_gcs_5.0.csv\")\n",
    "# seda_gcs.head(100)"
   ]
  },
  {
   "cell_type": "code",
   "execution_count": 9,
   "id": "1d25bbe5",
   "metadata": {},
   "outputs": [
    {
     "data": {
      "text/plain": [
       "354949"
      ]
     },
     "execution_count": 9,
     "metadata": {},
     "output_type": "execute_result"
    }
   ],
   "source": [
    "len(seda_gcs)"
   ]
  },
  {
   "cell_type": "code",
   "execution_count": null,
   "id": "31f7744f",
   "metadata": {},
   "outputs": [],
   "source": [
    "## Plot histogram for a categorical column\n",
    "# state_counts = seda_gcs['year'].value_counts()\n",
    "# state_counts = state_counts.sort_index()\n",
    "# plt.figure(figsize=(10, 5))\n",
    "# state_counts.plot(kind='bar', color='skyblue', edgecolor='black')\n",
    "# plt.xlabel('Year')\n",
    "# plt.ylabel('Count')\n",
    "# plt.title('Histogram of Year counts')\n",
    "# plt.xticks(rotation=45) \n",
    "# plt.show()"
   ]
  },
  {
   "cell_type": "code",
   "execution_count": 44,
   "id": "eb0bfc8b",
   "metadata": {},
   "outputs": [],
   "source": [
    "## Assess rought distributional statistics for a continuous column\n",
    "# agg_min, agg_max, agg_mean, agg_stedv = [], [], [], []\n",
    "# for col in seda_gcs.columns:\n",
    "#     if col.startswith(\"tot_asmt\") and len(col.split(\"_\")) == 3:\n",
    "#         values = seda_gcs[seda_gcs[col].notna()][col]\n",
    "#         agg_min.append(values.min())\n",
    "#         agg_max.append(values.max())\n",
    "#         agg_mean.append(values.mean())\n",
    "#         agg_stedv.append(values.std())\n",
    "# agg_min.sort()\n",
    "# agg_max.sort()\n",
    "# agg_mean.sort()\n",
    "# agg_stedv.sort()\n",
    "# print(f\"{agg_min},\\n{agg_max},\\n{agg_mean},\\n{agg_stedv}\")\n",
    "# print(statistics.mean(agg_min), statistics.mean(agg_max), statistics.mean(agg_mean), statistics.mean(agg_stedv))\n"
   ]
  },
  {
   "cell_type": "markdown",
   "id": "83e97920",
   "metadata": {},
   "source": [
    "**County Coverage**"
   ]
  },
  {
   "cell_type": "code",
   "execution_count": 10,
   "id": "ab7ba6ab",
   "metadata": {},
   "outputs": [],
   "source": [
    "with open(\"state_abbv_mapping.json\") as f:\n",
    "    state_abbv_mapping = json.load(f)"
   ]
  },
  {
   "cell_type": "code",
   "execution_count": 11,
   "id": "a5d80f3a",
   "metadata": {},
   "outputs": [
    {
     "data": {
      "text/plain": [
       "3136"
      ]
     },
     "execution_count": 11,
     "metadata": {},
     "output_type": "execute_result"
    }
   ],
   "source": [
    "food_atlas_counties = set()\n",
    "for state, county in zip(food_atlas[\"State\"], food_atlas[\"County\"]):\n",
    "    food_atlas_counties.add(f\"{state_abbv_mapping[state]}_{' '.join(county.split(' ')[:-1])}\".lower())\n",
    "len(food_atlas_counties)"
   ]
  },
  {
   "cell_type": "code",
   "execution_count": 12,
   "id": "0fff8f98",
   "metadata": {},
   "outputs": [
    {
     "data": {
      "text/plain": [
       "3098"
      ]
     },
     "execution_count": 12,
     "metadata": {},
     "output_type": "execute_result"
    }
   ],
   "source": [
    "seda_counties = set()\n",
    "for state, county in zip(seda_gcs[\"stateabb\"], seda_gcs[\"sedacountyname\"]):\n",
    "    seda_counties.add(f\"{state}_{' '.join(county.split(' ')[:-1])}\".lower())\n",
    "len(seda_counties)"
   ]
  },
  {
   "cell_type": "markdown",
   "id": "00f60a89",
   "metadata": {},
   "source": [
    "**Missing counties**"
   ]
  },
  {
   "cell_type": "code",
   "execution_count": 13,
   "id": "79b9931a",
   "metadata": {},
   "outputs": [
    {
     "name": "stdout",
     "output_type": "stream",
     "text": [
      "In SEDA but not in Food Atlas:\n",
      "[]\n",
      "In Food Atlas but not in SEDA:\n",
      "['keweenaw, mi', 'esmeralda, nv', 'loup, ne', 'harding, nm', 'prairie, mt', 'alpine, ca', 'buffalo, sd', 'mcpherson, ne', 'clark, id', 'billings, nd', 'carter, mt', 'sheridan, nd', 'wheeler, or', 'yakutat city and, ak', 'hinsdale, co', 'skagway, ak', 'campbell, sd', 'wheeler, ne', 'terrell, tx', 'hayes, ne', 'treasure, mt', 'slope, nd', 'san juan, co', 'loving, tx', 'emporia, va', 'keya paha, ne', 'golden valley, mt', 'arthur, ne', 'kenedy, tx', 'kalawao, hi', 'mineral, co', 'banner, ne', 'kent, tx', 'sioux, ne', 'petroleum, mt', 'king, tx', 'issaquena, ms', 'blaine, ne']\n"
     ]
    }
   ],
   "source": [
    "missing = []\n",
    "for pair in seda_counties:\n",
    "    if pair not in food_atlas_counties:\n",
    "        state, county = pair.split(\"_\")\n",
    "        missing.append(f\"{county}, {state}\")\n",
    "print(f\"In SEDA but not in Food Atlas:\")\n",
    "print(missing)\n",
    "\n",
    "missing = []\n",
    "for pair in food_atlas_counties:\n",
    "    if pair not in seda_counties:\n",
    "        state, county = pair.split(\"_\")\n",
    "        missing.append(f\"{county}, {state}\")\n",
    "print(f\"In Food Atlas but not in SEDA:\")\n",
    "print(missing)\n"
   ]
  },
  {
   "cell_type": "markdown",
   "id": "bfdabb7c",
   "metadata": {},
   "source": [
    "**Missing Data in SEDA dataset**"
   ]
  },
  {
   "cell_type": "code",
   "execution_count": 8,
   "id": "0f82a7bb-0b18-4db3-8590-8ba97519b019",
   "metadata": {},
   "outputs": [],
   "source": [
    "race_tags = {\n",
    "    \"Asian\": \"asn\",\n",
    "    \"Black\": \"blk\",\n",
    "    \"Hispanic\": \"hsp\",\n",
    "    \"Native American\": \"nam\",\n",
    "    # \"White-Asian Gap\": \"wag\",\n",
    "    # \"White-Black Gap\": \"wbg\",\n",
    "    # \"White-Hispanic Gap\": \"whg\",\n",
    "    # \"White\": \"wht\",\n",
    "    # \"White-Native American Gap\": \"whg\",\n",
    "}\n",
    "race_tags_inv = {v: k for k, v in race_tags.items()}\n",
    "\n",
    "gender_tags = {\n",
    "    \"Female\": \"fem\",\n",
    "    \"Male\": \"mal\",\n",
    "    # \"Male-Female Gap\": \"mfg\"\n",
    "}\n",
    "gender_tags_inv = {v: k for k, v in gender_tags.items()}\n",
    "\n",
    "additional_tags = {\n",
    "    \"Early Childhood Development\": \"ecd\",\n",
    "    \"Non-Early Childhood Development\": \"nec\",\n",
    "    \"Non-ECD ECD Gap\": \"neg\"\n",
    "}\n",
    "additional_tags_inv = {v: k for k, v in additional_tags.items()}\n",
    "\n",
    "# Add g before cs (i.e. \"gcs\") for the grade comparable scale table\n",
    "columns = {\n",
    "    \"County Mean\": \"cs_mn\",\n",
    "    \"County STDEV\": \"cs_mn_se\",\n",
    "    \"Total Number of Students\": \"tot_asmt\",\n",
    "}\n",
    "columns_inv = {v: k for k, v in columns.items()}"
   ]
  },
  {
   "cell_type": "code",
   "execution_count": 9,
   "id": "aeee4a2d-b647-498e-be40-2be4457fc68b",
   "metadata": {},
   "outputs": [
    {
     "name": "stdout",
     "output_type": "stream",
     "text": [
      "AK's most sparse column is gcs_mn_blk with 0.8925576519916143 percent missing\n",
      "AL's most sparse column is gcs_mn_nam with 0.9030344512890714 percent missing\n",
      "AR's most sparse column is gcs_mn_nam with 0.9624605678233439 percent missing\n",
      "AZ's most sparse column is gcs_mn_blk with 0.6272054638588503 percent missing\n",
      "CA's most sparse column is gcs_mn_nam with 0.4873345317862396 percent missing\n",
      "CO's most sparse column is gcs_mn_nam with 0.8560961313012896 percent missing\n",
      "CT's most sparse column is gcs_mn_nam with 0.6638743455497382 percent missing\n",
      "DC's most sparse column is gcs_mn_nam with 1.0 percent missing\n",
      "DE's most sparse column is gcs_mn_nam with 0.9111675126903553 percent missing\n",
      "FL's most sparse column is gcs_mn_nam with 0.874119367273694 percent missing\n",
      "GA's most sparse column is gcs_mn_nam with 0.9898800057828538 percent missing\n",
      "HI's most sparse column is gcs_mn_blk with 0.6660341555977229 percent missing\n",
      "IA's most sparse column is gcs_mn_nam with 0.9825442187379315 percent missing\n",
      "ID's most sparse column is gcs_mn_blk with 0.9560866013071896 percent missing\n",
      "IL's most sparse column is gcs_mn_nam with 0.959681059124417 percent missing\n",
      "IN's most sparse column is gcs_mn_nam with 0.9966059602649007 percent missing\n",
      "KS's most sparse column is gcs_mn_nam with 0.9465044579618365 percent missing\n",
      "KY's most sparse column is gcs_mn_nam with 0.998534471772652 percent missing\n",
      "LA's most sparse column is gcs_mn_nam with 0.9453725155468845 percent missing\n",
      "MA's most sparse column is gcs_mn_nam with 0.7616737416616131 percent missing\n",
      "MD's most sparse column is gcs_mn_nam with 0.8698795180722891 percent missing\n",
      "ME's most sparse column is gcs_mn_nam with 0.8713123092573754 percent missing\n",
      "MI's most sparse column is gcs_mn_nam with 0.8840404790641537 percent missing\n",
      "MN's most sparse column is gcs_mn_asn with 0.8537208278291502 percent missing\n",
      "MO's most sparse column is gcs_mn_nam with 0.9725607632843513 percent missing\n",
      "MS's most sparse column is gcs_mn_nam with 0.981717933836332 percent missing\n",
      "MT's most sparse column is gcs_mn_asn with 0.9605488850771869 percent missing\n",
      "NC's most sparse column is gcs_mn_nam with 0.8849155239033261 percent missing\n",
      "ND's most sparse column is gcs_mn_asn with 0.9620649198279233 percent missing\n",
      "NE's most sparse column is gcs_mn_asn with 0.9622598089978138 percent missing\n",
      "NH's most sparse column is gcs_mn_nam with 0.9952456418383518 percent missing\n",
      "NJ's most sparse column is gcs_mn_nam with 0.9931856899488927 percent missing\n",
      "NM's most sparse column is gcs_mn_asn with 0.8867534003548196 percent missing\n",
      "NV's most sparse column is gcs_mn_blk with 0.8573185731857319 percent missing\n",
      "NY's most sparse column is gcs_mn_nam with 0.8048359240069085 percent missing\n",
      "OH's most sparse column is gcs_mn_nam with 0.9924897119341564 percent missing\n",
      "OK's most sparse column is gcs_mn_asn with 0.9105527638190954 percent missing\n",
      "OR's most sparse column is gcs_mn_blk with 0.867530407191962 percent missing\n",
      "PA's most sparse column is gcs_mn_nam with 0.9882191467459682 percent missing\n",
      "RI's most sparse column is gcs_mn_nam with 0.7112561174551386 percent missing\n",
      "SC's most sparse column is gcs_mn_nam with 0.9622672598451145 percent missing\n",
      "SD's most sparse column is gcs_mn_blk with 0.9769412418391443 percent missing\n",
      "TN's most sparse column is gcs_mn_nam with 0.9848922247882987 percent missing\n",
      "TX's most sparse column is gcs_mn_nam with 0.9397307590116022 percent missing\n",
      "UT's most sparse column is gcs_mn_blk with 0.8255102040816327 percent missing\n",
      "VA's most sparse column is gcs_mn_nam with 0.983177570093458 percent missing\n",
      "VT's most sparse column is gcs_mn_nam with 0.9825268817204301 percent missing\n",
      "WA's most sparse column is gcs_mn_blk with 0.7292092208929093 percent missing\n",
      "WI's most sparse column is gcs_mn_nam with 0.8306502859563651 percent missing\n",
      "WV's most sparse column is gcs_mn_nam with 1.0 percent missing\n",
      "WY's most sparse column is gcs_mn_asn with 0.9873595505617978 percent missing\n"
     ]
    }
   ],
   "source": [
    "\n",
    "for state, group in seda_gcs.groupby(\"stateabb\"):\n",
    "    max_missing = 0\n",
    "    max_missing_col = \"\"\n",
    "    for col, tot in zip(group.isna().sum().keys(), group.isna().sum().values):\n",
    "        if tot > max_missing:\n",
    "            if any([x in col for x in [\"asn\", \"blk\", \"hsp\", \"nam\", \"fem\", \"mal\"]]):\n",
    "                max_missing = tot\n",
    "                max_missing_col = col\n",
    "    print(f\"{state}'s most sparse column is {max_missing_col} with {max_missing / len(group)} percent missing\")"
   ]
  },
  {
   "cell_type": "code",
   "execution_count": 10,
   "id": "a167278e-95fb-4db9-8047-353232bc0882",
   "metadata": {},
   "outputs": [
    {
     "name": "stdout",
     "output_type": "stream",
     "text": [
      "Percent of rows with missing values for AK: 0.8936058700209644\n",
      "Percent of rows with missing values for AL: 0.9032626055213324\n",
      "Percent of rows with missing values for AR: 0.9627760252365931\n",
      "Percent of rows with missing values for AZ: 0.6306203756402959\n",
      "Percent of rows with missing values for CA: 0.49485210001634256\n",
      "Percent of rows with missing values for CO: 0.8648886283704572\n",
      "Percent of rows with missing values for CT: 0.6638743455497382\n",
      "Percent of rows with missing values for DC: 1.0\n",
      "Percent of rows with missing values for DE: 0.9111675126903553\n",
      "Percent of rows with missing values for FL: 0.8746510700518411\n",
      "Percent of rows with missing values for GA: 0.9898800057828538\n",
      "Percent of rows with missing values for HI: 0.6660341555977229\n",
      "Percent of rows with missing values for IA: 0.9825442187379315\n",
      "Percent of rows with missing values for ID: 0.9560866013071896\n",
      "Percent of rows with missing values for IL: 0.9599067248382729\n",
      "Percent of rows with missing values for IN: 0.9966059602649007\n",
      "Percent of rows with missing values for KS: 0.9465044579618365\n",
      "Percent of rows with missing values for KY: 0.998534471772652\n",
      "Percent of rows with missing values for LA: 0.9457383245945616\n",
      "Percent of rows with missing values for MA: 0.7616737416616131\n",
      "Percent of rows with missing values for MD: 0.8698795180722891\n",
      "Percent of rows with missing values for ME: 0.8713123092573754\n",
      "Percent of rows with missing values for MI: 0.8841333209544147\n",
      "Percent of rows with missing values for MN: 0.8537208278291502\n",
      "Percent of rows with missing values for MO: 0.9725607632843513\n",
      "Percent of rows with missing values for MS: 0.981717933836332\n",
      "Percent of rows with missing values for MT: 0.9605488850771869\n",
      "Percent of rows with missing values for NC: 0.8853701037957421\n",
      "Percent of rows with missing values for ND: 0.9620649198279233\n",
      "Percent of rows with missing values for NE: 0.9622598089978138\n",
      "Percent of rows with missing values for NH: 0.9952456418383518\n",
      "Percent of rows with missing values for NJ: 0.9931856899488927\n",
      "Percent of rows with missing values for NM: 0.8888231815493791\n",
      "Percent of rows with missing values for NV: 0.8579335793357934\n",
      "Percent of rows with missing values for NY: 0.8055761164569455\n",
      "Percent of rows with missing values for OH: 0.9924897119341564\n",
      "Percent of rows with missing values for OK: 0.9105527638190954\n",
      "Percent of rows with missing values for OR: 0.8691168693812797\n",
      "Percent of rows with missing values for PA: 0.9884479011780853\n",
      "Percent of rows with missing values for RI: 0.7373572593800979\n",
      "Percent of rows with missing values for SC: 0.9622672598451145\n",
      "Percent of rows with missing values for SD: 0.9769412418391443\n",
      "Percent of rows with missing values for TN: 0.9848922247882987\n",
      "Percent of rows with missing values for TX: 0.9406164201576477\n",
      "Percent of rows with missing values for UT: 0.8272108843537415\n",
      "Percent of rows with missing values for VA: 0.983177570093458\n",
      "Percent of rows with missing values for VT: 0.9825268817204301\n",
      "Percent of rows with missing values for WA: 0.7309600233440326\n",
      "Percent of rows with missing values for WI: 0.8442067358610464\n",
      "Percent of rows with missing values for WV: 1.0\n",
      "Percent of rows with missing values for WY: 0.9873595505617978\n",
      "\n",
      "Percent of rows with missing values for mth: 0.8941903427188177\n",
      "Percent of rows with missing values for rla: 0.8954414031853668\n",
      "\n",
      "Percent of rows with missing values for 3: 0.8951150142208473\n",
      "Percent of rows with missing values for 4: 0.894339245898366\n",
      "Percent of rows with missing values for 5: 0.8943345396712054\n",
      "Percent of rows with missing values for 6: 0.8949184133939374\n",
      "Percent of rows with missing values for 7: 0.8944573110209484\n",
      "Percent of rows with missing values for 8: 0.8959280997798973\n",
      "\n",
      "Percent of rows with missing values for 2009: 0.8846096786636205\n",
      "Percent of rows with missing values for 2010: 0.8781322865322747\n",
      "Percent of rows with missing values for 2011: 0.8839347475213281\n",
      "Percent of rows with missing values for 2012: 0.881125961927906\n",
      "Percent of rows with missing values for 2013: 0.887752723882771\n",
      "Percent of rows with missing values for 2014: 0.9053317622799911\n",
      "Percent of rows with missing values for 2015: 0.9055546452564313\n",
      "Percent of rows with missing values for 2016: 0.9016750691169296\n",
      "Percent of rows with missing values for 2017: 0.9080305629190706\n",
      "Percent of rows with missing values for 2018: 0.9096497406672216\n",
      "Percent of rows with missing values for 2019: 0.9040860885839052\n"
     ]
    }
   ],
   "source": [
    "## Investigate missing values\n",
    "\n",
    "# State\n",
    "for state, group in seda_gcs.groupby(\"stateabb\"):\n",
    "    print(f\"Percent of rows with missing values for {state}: {max(group.isna().sum()) / len(group)}\")\n",
    "\n",
    "\n",
    "# Subject\n",
    "print()\n",
    "for state, group in seda_gcs.groupby(\"subject\"):\n",
    "    print(f\"Percent of rows with missing values for {state}: {max(group.isna().sum()) / len(group)}\")\n",
    "\n",
    "# Grade\n",
    "print()\n",
    "for state, group in seda_gcs.groupby(\"grade\"):\n",
    "    print(f\"Percent of rows with missing values for {state}: {max(group.isna().sum()) / len(group)}\")\n",
    "\n",
    "# Year\n",
    "print()\n",
    "for state, group in seda_gcs.groupby(\"year\"):\n",
    "    print(f\"Percent of rows with missing values for {state}: {max(group.isna().sum()) / len(group)}\")\n",
    "\n",
    "# Per Column"
   ]
  },
  {
   "cell_type": "code",
   "execution_count": null,
   "id": "e6c952a2-6504-4e93-9383-5612bea261a6",
   "metadata": {},
   "outputs": [],
   "source": []
  }
 ],
 "metadata": {
  "kernelspec": {
   "display_name": "Python 3",
   "language": "python",
   "name": "python3"
  },
  "language_info": {
   "codemirror_mode": {
    "name": "ipython",
    "version": 3
   },
   "file_extension": ".py",
   "mimetype": "text/x-python",
   "name": "python",
   "nbconvert_exporter": "python",
   "pygments_lexer": "ipython3",
   "version": "3.9.6"
  }
 },
 "nbformat": 4,
 "nbformat_minor": 5
}
